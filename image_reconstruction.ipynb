{
 "cells": [
  {
   "cell_type": "code",
   "execution_count": 1,
   "metadata": {},
   "outputs": [],
   "source": [
    "%load_ext autoreload\n",
    "%autoreload 2\n",
    "\n",
    "import os\n",
    "import time\n",
    "from tqdm import tqdm_notebook as tqdm\n",
    "\n",
    "import numpy as np\n",
    "import tensorflow as tf\n",
    "from tensorflow.keras import models, layers, losses, optimizers\n",
    "\n",
    "import cv2\n",
    "\n",
    "from core.layers import Downsampler, Upsampler, Skip\n",
    "from core.losses import pixelwise_mse\n",
    "from core.callbacks import SaveResultImage\n",
    "from core.utils import crop_div_32\n",
    "\n",
    "import imageio\n",
    "import matplotlib.pyplot as plt"
   ]
  },
  {
   "cell_type": "code",
   "execution_count": null,
   "metadata": {},
   "outputs": [],
   "source": [
    "INPUT_IMG_PATH = \"data/lena.png\"\n",
    "OUTPUT_IMG_NAME = os.path.splitext(os.path.basename(INPUT_IMG_PATH))[0]\n",
    "OUTPUT_DIR = \"output/image_reconstruction\"\n",
    "if not os.path.exists(OUTPUT_DIR):\n",
    "    os.makedirs(OUTPUT_DIR)\n",
    "\n",
    "original_img = imageio.imread(INPUT_IMG_PATH)\n",
    "original_img = crop_div_32(original_img)\n",
    "\n",
    "\n",
    "mask = np.random.choice([1, 0], original_img.shape[:2], p=[0.75, 0.25]).astype(np.uint8)\n",
    "img = cv2.bitwise_and(original_img, original_img, mask=mask)\n",
    "\n",
    "img = tf.image.convert_image_dtype(img, dtype=tf.float32)\n",
    "plt.imshow(img)"
   ]
  },
  {
   "cell_type": "code",
   "execution_count": null,
   "metadata": {},
   "outputs": [],
   "source": [
    "input_dim = img.shape[:2] + (32,)\n",
    "\n",
    "num_filters_down = [128, 128, 128, 128, 128]\n",
    "ksizes_down = [3, 3, 3, 3, 3]\n",
    "\n",
    "num_filters_up = num_filters_down\n",
    "ksizes_up = ksizes_down\n",
    "\n",
    "num_filters_skip = [4, 4, 4, 4, 4]\n",
    "ksizes_skip = [1, 1, 1, 1, 1]\n",
    "\n",
    "sigma_p = 1/30\n",
    "n_iter = 11000\n",
    "lr = 0.001\n",
    "upsampling_mode = \"bilinear\"\n",
    "\n",
    "# Build the model\n",
    "model = skip(input_dim, \n",
    "             num_filters_down, ksizes_down, \n",
    "             num_filters_up, ksizes_up,\n",
    "             num_filters_skip, ksizes_skip,\n",
    "             upsampling_mode, sigma_p=sigma_p)\n",
    "\n",
    "model.summary()"
   ]
  },
  {
   "cell_type": "code",
   "execution_count": null,
   "metadata": {},
   "outputs": [],
   "source": [
    "z = np.random.uniform(0, 0.1, img.shape[:2] + (32,))\n",
    "z = np.expand_dims(z, axis=0)\n",
    "y_true = np.expand_dims(img, axis=0)\n",
    "\n",
    "callbacks = [\n",
    "    SaveResultImage(n=200, input_tensor=z, output_dir=OUTPUT_DIR, img_name=OUTPUT_IMG_NAME)\n",
    "]\n",
    "\n",
    "# Extend the mask to 3 channels\n",
    "mask = np.transpose(np.array([mask] * 3), [1, 2, 0])\n",
    "\n",
    "model.compile(loss=pixelwise_mse(mask=mask),\n",
    "              optimizer=optimizers.Adam(lr=lr))\n",
    "\n",
    "model.fit(z, y_true, \n",
    "          epochs=n_iter,\n",
    "          callbacks=callbacks)"
   ]
  },
  {
   "cell_type": "code",
   "execution_count": null,
   "metadata": {},
   "outputs": [],
   "source": []
  }
 ],
 "metadata": {
  "kernelspec": {
   "display_name": "Python [conda env:ml]",
   "language": "python",
   "name": "conda-env-ml-py"
  },
  "language_info": {
   "codemirror_mode": {
    "name": "ipython",
    "version": 3
   },
   "file_extension": ".py",
   "mimetype": "text/x-python",
   "name": "python",
   "nbconvert_exporter": "python",
   "pygments_lexer": "ipython3",
   "version": "3.7.5"
  }
 },
 "nbformat": 4,
 "nbformat_minor": 4
}
