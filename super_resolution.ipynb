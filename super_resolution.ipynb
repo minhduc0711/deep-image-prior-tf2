{
 "cells": [
  {
   "cell_type": "code",
   "execution_count": null,
   "metadata": {},
   "outputs": [],
   "source": [
    "%load_ext autoreload\n",
    "%autoreload 2\n",
    "\n",
    "import os\n",
    "from tqdm import tqdm_notebook as tqdm\n",
    "\n",
    "import numpy as np\n",
    "import tensorflow as tf\n",
    "from tensorflow.keras import models, layers, losses, optimizers\n",
    "\n",
    "from core.losses import pixelwise_mse\n",
    "from core.utils import crop_div_32\n",
    "from core.models import skip\n",
    "\n",
    "import imageio\n",
    "import matplotlib.pyplot as plt"
   ]
  },
  {
   "cell_type": "code",
   "execution_count": null,
   "metadata": {},
   "outputs": [],
   "source": [
    "INPUT_IMG_PATH = \"data/zebra_GT.png\"\n",
    "OUTPUT_IMG_NAME = os.path.splitext(os.path.basename(INPUT_IMG_PATH))[0]\n",
    "OUTPUT_DIR = \"output/super_resolution/\"\n",
    "if not os.path.exists(OUTPUT_DIR):\n",
    "    os.makedirs(OUTPUT_DIR)\n",
    "\n",
    "img = imageio.imread(INPUT_IMG_PATH)\n",
    "img = crop_div_32(img)\n",
    "img = tf.image.convert_image_dtype(img, dtype=tf.float32)"
   ]
  },
  {
   "cell_type": "code",
   "execution_count": null,
   "metadata": {},
   "outputs": [],
   "source": [
    "factor = 2 # The super-resolution image will have size of factor * original_size\n",
    "input_dim = (img.shape[0] * factor, img.shape[1] * factor, 32)\n",
    "\n",
    "num_filters_down = [128, 128, 128, 128, 128]\n",
    "ksizes_down = [3, 3, 3, 3, 3]\n",
    "\n",
    "num_filters_up = num_filters_down\n",
    "ksizes_up = ksizes_down\n",
    "\n",
    "num_filters_skip = [4, 4, 4, 4, 4]\n",
    "ksizes_skip = [1, 1, 1, 1, 1]\n",
    "\n",
    "sigma_p = 1/30\n",
    "n_iter = 2000\n",
    "lr = 0.01\n",
    "upsampling_mode = \"bilinear\"\n",
    "\n",
    "\n",
    "# Build the model\n",
    "model = skip(input_dim, \n",
    "             num_filters_down, ksizes_down, \n",
    "             num_filters_up, ksizes_up,\n",
    "             num_filters_skip, ksizes_skip,\n",
    "             upsampling_mode, sigma_p=sigma_p,\n",
    "             resize=img.shape[:2])\n",
    "\n",
    "model.summary()"
   ]
  },
  {
   "cell_type": "code",
   "execution_count": null,
   "metadata": {},
   "outputs": [],
   "source": [
    "from core.callbacks import SaveResultImage\n",
    "\n",
    "z = np.random.uniform(0, 0.1, input_dim)\n",
    "z = np.expand_dims(z, axis=0)\n",
    "y_true = np.expand_dims(img, axis=0)\n",
    "\n",
    "callbacks = [\n",
    "    SaveResultImage(n=1, input_tensor=z, output_dir=OUTPUT_DIR, img_name=OUTPUT_IMG_NAME)\n",
    "]\n",
    "model.compile(loss=pixelwise_mse(),\n",
    "              optimizer=optimizers.Adam(lr=lr))\n",
    "\n",
    "model.fit(z, y_true, \n",
    "          epochs=n_iter,\n",
    "          callbacks=callbacks)"
   ]
  },
  {
   "cell_type": "code",
   "execution_count": null,
   "metadata": {},
   "outputs": [],
   "source": [
    "import matplotlib.pyplot as plt\n",
    "\n",
    "sr = tf.image.resize(img, (img.shape[0] * factor, img.shape[1] * factor), method=\"bicubic\")\n",
    "imageio.imsave(\"data/sr_x2_bicubic_zebra.png\", sr)"
   ]
  },
  {
   "cell_type": "code",
   "execution_count": null,
   "metadata": {},
   "outputs": [],
   "source": []
  }
 ],
 "metadata": {
  "kernelspec": {
   "display_name": "Python [conda env:ml]",
   "language": "python",
   "name": "conda-env-ml-py"
  },
  "language_info": {
   "codemirror_mode": {
    "name": "ipython",
    "version": 3
   },
   "file_extension": ".py",
   "mimetype": "text/x-python",
   "name": "python",
   "nbconvert_exporter": "python",
   "pygments_lexer": "ipython3",
   "version": "3.7.5"
  }
 },
 "nbformat": 4,
 "nbformat_minor": 4
}
