{
 "cells": [
  {
   "cell_type": "code",
   "execution_count": 1,
   "metadata": {},
   "outputs": [],
   "source": [
    "%load_ext autoreload\n",
    "%autoreload 2\n",
    "\n",
    "import os\n",
    "from tqdm import tqdm_notebook as tqdm\n",
    "\n",
    "import numpy as np\n",
    "import tensorflow as tf\n",
    "from tensorflow.keras import models, layers, losses, optimizers\n",
    "\n",
    "from core.layers import Downsampler, Upsampler, Skip\n",
    "from core.utils import crop_div_32\n",
    "\n",
    "import imageio\n",
    "import matplotlib.pyplot as plt"
   ]
  },
  {
   "cell_type": "code",
   "execution_count": 2,
   "metadata": {},
   "outputs": [],
   "source": [
    "OUTPUT_DIR = \"output/jpeg_denoising\"\n",
    "\n",
    "img = imageio.imread(\"data/snail.jpg\")\n",
    "img = crop_div_32(img)\n",
    "img = tf.image.convert_image_dtype(img, dtype=tf.float32)\n",
    "\n",
    "factor = 4"
   ]
  },
  {
   "cell_type": "code",
   "execution_count": 3,
   "metadata": {},
   "outputs": [],
   "source": [
    "num_filters_down = [8, 16, 32, 64, 128]\n",
    "ksizes_down = [3, 3, 3, 3, 3]\n",
    "\n",
    "num_filters_up = num_filters_down\n",
    "ksizes_up = ksizes_down\n",
    "\n",
    "num_filters_skip = [0, 0, 0, 4, 4]\n",
    "ksizes_skip = [0, 0, 0, 1, 1]\n",
    "\n",
    "sigma_p = 1/30\n",
    "n_iter = 2000\n",
    "lr = 0.01\n",
    "upsampling_mode = \"bilinear\""
   ]
  },
  {
   "cell_type": "code",
   "execution_count": 4,
   "metadata": {},
   "outputs": [
    {
     "name": "stdout",
     "output_type": "stream",
     "text": [
      "Model: \"model\"\n",
      "__________________________________________________________________________________________________\n",
      "Layer (type)                    Output Shape         Param #     Connected to                     \n",
      "==================================================================================================\n",
      "input_1 (InputLayer)            [(None, 256, 384, 32 0                                            \n",
      "__________________________________________________________________________________________________\n",
      "downsampler (Downsampler)       (None, 128, 192, 8)  2960        input_1[0][0]                    \n",
      "__________________________________________________________________________________________________\n",
      "downsampler_1 (Downsampler)     (None, 64, 96, 16)   3616        downsampler[0][0]                \n",
      "__________________________________________________________________________________________________\n",
      "downsampler_2 (Downsampler)     (None, 32, 48, 32)   14144       downsampler_1[0][0]              \n",
      "__________________________________________________________________________________________________\n",
      "downsampler_3 (Downsampler)     (None, 16, 24, 64)   55936       downsampler_2[0][0]              \n",
      "__________________________________________________________________________________________________\n",
      "downsampler_4 (Downsampler)     (None, 8, 12, 128)   222464      downsampler_3[0][0]              \n",
      "__________________________________________________________________________________________________\n",
      "skip_1 (Skip)                   (None, 8, 12, 4)     532         downsampler_4[0][0]              \n",
      "__________________________________________________________________________________________________\n",
      "tf_op_layer_concat (TensorFlowO [(None, 8, 12, 132)] 0           downsampler_4[0][0]              \n",
      "                                                                 skip_1[0][0]                     \n",
      "__________________________________________________________________________________________________\n",
      "upsampler (Upsampler)           (None, 16, 24, 128)  170256      tf_op_layer_concat[0][0]         \n",
      "__________________________________________________________________________________________________\n",
      "skip (Skip)                     (None, 16, 24, 4)    276         downsampler_3[0][0]              \n",
      "__________________________________________________________________________________________________\n",
      "tf_op_layer_concat_1 (TensorFlo [(None, 16, 24, 132) 0           upsampler[0][0]                  \n",
      "                                                                 skip[0][0]                       \n",
      "__________________________________________________________________________________________________\n",
      "upsampler_1 (Upsampler)         (None, 32, 48, 64)   81296       tf_op_layer_concat_1[0][0]       \n",
      "__________________________________________________________________________________________________\n",
      "upsampler_2 (Upsampler)         (None, 64, 96, 32)   20032       upsampler_1[0][0]                \n",
      "__________________________________________________________________________________________________\n",
      "upsampler_3 (Upsampler)         (None, 128, 192, 16) 5152        upsampler_2[0][0]                \n",
      "__________________________________________________________________________________________________\n",
      "upsampler_4 (Upsampler)         (None, 256, 384, 8)  1360        upsampler_3[0][0]                \n",
      "__________________________________________________________________________________________________\n",
      "conv2d_22 (Conv2D)              (None, 256, 384, 3)  27          upsampler_4[0][0]                \n",
      "==================================================================================================\n",
      "Total params: 578,051\n",
      "Trainable params: 575,299\n",
      "Non-trainable params: 2,752\n",
      "__________________________________________________________________________________________________\n"
     ]
    }
   ],
   "source": [
    "skip_outputs = [None] * len(num_filters_skip)\n",
    "model_input = layers.Input(shape=img.shape[:2] + (32,), dtype=tf.float32)\n",
    "x = model_input\n",
    "\n",
    "for i in range(len(num_filters_down)):\n",
    "    x = Downsampler(num_filters_down[i],\n",
    "                    ksizes_down[i])(x)\n",
    "    if num_filters_skip[i]:\n",
    "        skip_outputs[i] = Skip(num_filters_skip[i], ksizes_skip[i])(x)\n",
    "\n",
    "    \n",
    "for i in range(len(num_filters_up) - 1, -1, -1):\n",
    "    if num_filters_skip[i]:\n",
    "        x = tf.concat((x, skip_outputs[i]), axis=3)\n",
    "    x = Upsampler(num_filters_up[i],\n",
    "                  ksizes_up[i],\n",
    "                  scale_factor=2,\n",
    "                  upsampling_mode=upsampling_mode)(x)\n",
    "\n",
    "    \n",
    "# Transform to original 3-channel image\n",
    "model_output = layers.Conv2D(filters=3, kernel_size=1, \n",
    "                             strides=1, padding='SAME', \n",
    "                             activation='sigmoid')(x)\n",
    "model = models.Model(inputs=model_input, outputs=model_output)\n",
    "\n",
    "model.summary()"
   ]
  },
  {
   "cell_type": "code",
   "execution_count": 5,
   "metadata": {},
   "outputs": [
    {
     "data": {
      "application/vnd.jupyter.widget-view+json": {
       "model_id": "2cbabe1606de4df1942c25d24cc89126",
       "version_major": 2,
       "version_minor": 0
      },
      "text/plain": [
       "HBox(children=(IntProgress(value=0, max=2000), HTML(value='')))"
      ]
     },
     "metadata": {},
     "output_type": "display_data"
    },
    {
     "name": "stdout",
     "output_type": "stream",
     "text": [
      "WARNING:tensorflow:Layer downsampler is casting an input tensor from dtype float64 to the layer's dtype of float32, which is new behavior in TensorFlow 2.  The layer has dtype float32 because it's dtype defaults to floatx.\n",
      "\n",
      "If you intended to run this layer in float32, you can safely ignore this warning. If in doubt, this warning is likely only an issue if you are porting a TensorFlow 1.X model to TensorFlow 2.\n",
      "\n",
      "To change all layers to have dtype float64 by default, call `tf.keras.backend.set_floatx('float64')`. To change just this layer, pass dtype='float64' to the layer constructor. If you are the author of this layer, you can disable autocasting by passing autocast=False to the base Layer constructor.\n",
      "\n",
      "Iter 1: loss=[0.20074014]\n",
      "Iter 100: loss=[0.02769649]\n",
      "Iter 200: loss=[0.01566191]\n",
      "Iter 300: loss=[0.00766597]\n",
      "Iter 400: loss=[0.00514044]\n",
      "Iter 500: loss=[0.00475298]\n",
      "Iter 600: loss=[0.00411579]\n",
      "Iter 700: loss=[0.00393403]\n",
      "Iter 800: loss=[0.00350419]\n",
      "Iter 900: loss=[0.00382191]\n",
      "Iter 1000: loss=[0.00309782]\n",
      "Iter 1100: loss=[0.00329131]\n",
      "Iter 1200: loss=[0.00284968]\n",
      "Iter 1300: loss=[0.00294562]\n",
      "Iter 1400: loss=[0.00410508]\n",
      "Iter 1500: loss=[0.00285121]\n",
      "Iter 1600: loss=[0.00264457]\n",
      "Iter 1700: loss=[0.0027393]\n",
      "Iter 1800: loss=[0.00277589]\n",
      "Iter 1900: loss=[0.00259325]\n",
      "Iter 2000: loss=[0.00294586]\n",
      "\n"
     ]
    }
   ],
   "source": [
    "opt = optimizers.Adam(lr=lr)\n",
    "\n",
    "def pixelwise_mse(y_true, y_pred):\n",
    "    batch_size = y_true.shape[0]\n",
    "    y_true = tf.reshape(y_true, (batch_size, -1))\n",
    "    y_pred = tf.reshape(y_pred, (batch_size, -1))\n",
    "    \n",
    "    return tf.keras.losses.mean_squared_error(y_true, y_pred)\n",
    "\n",
    "z = np.random.uniform(0, 0.1, img.shape[:2] + (32,))\n",
    "z = np.expand_dims(z, axis=0)\n",
    "y_true = np.expand_dims(img, axis=0)\n",
    "loss_vals = []\n",
    "\n",
    "for it in tqdm(range(1, n_iter + 1)):\n",
    "    with tf.GradientTape() as tape:\n",
    "        y_pred = model(z, training=True)\n",
    "        main_loss = pixelwise_mse(y_true, y_pred)\n",
    "        loss_vals.append(main_loss.numpy())\n",
    "        loss = tf.add_n([main_loss] + model.losses)\n",
    "    grads = tape.gradient(loss, model.trainable_variables)\n",
    "    opt.apply_gradients(zip(grads, model.trainable_variables))\n",
    "    \n",
    "    # Add perturb noise to z\n",
    "    z += np.random.randn(*z.shape) * sigma_p\n",
    "    if it % 100 == 0 or it == 1:\n",
    "        print(f\"Iter {it}: loss={loss.numpy()}\")\n",
    "        output_img = tf.image.convert_image_dtype(y_pred.numpy().squeeze(), dtype=tf.uint8)\n",
    "        output_path = os.path.join(OUTPUT_DIR, f\"snail_{it}.jpg\")\n",
    "        imageio.imsave(output_path, output_img)"
   ]
  },
  {
   "cell_type": "code",
   "execution_count": null,
   "metadata": {},
   "outputs": [],
   "source": []
  }
 ],
 "metadata": {
  "kernelspec": {
   "display_name": "Python [conda env:ml]",
   "language": "python",
   "name": "conda-env-ml-py"
  },
  "language_info": {
   "codemirror_mode": {
    "name": "ipython",
    "version": 3
   },
   "file_extension": ".py",
   "mimetype": "text/x-python",
   "name": "python",
   "nbconvert_exporter": "python",
   "pygments_lexer": "ipython3",
   "version": "3.7.5"
  }
 },
 "nbformat": 4,
 "nbformat_minor": 4
}
