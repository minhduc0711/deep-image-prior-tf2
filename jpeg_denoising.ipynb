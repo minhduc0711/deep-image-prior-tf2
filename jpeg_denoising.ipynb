{
 "cells": [
  {
   "cell_type": "code",
   "execution_count": null,
   "metadata": {},
   "outputs": [],
   "source": [
    "%load_ext autoreload\n",
    "%autoreload 2\n",
    "\n",
    "import os\n",
    "from tqdm import tqdm_notebook as tqdm\n",
    "\n",
    "import numpy as np\n",
    "import tensorflow as tf\n",
    "from tensorflow.keras import models, layers, losses, optimizers\n",
    "\n",
    "from core.layers import Downsampler, Upsampler, Skip\n",
    "from core.losses import pixelwise_mse\n",
    "from core.utils import crop_div_32\n",
    "\n",
    "import imageio\n",
    "import matplotlib.pyplot as plt"
   ]
  },
  {
   "cell_type": "code",
   "execution_count": null,
   "metadata": {},
   "outputs": [],
   "source": [
    "INPUT_IMG_PATH = \"data/snail.jpg\"\n",
    "OUTPUT_IMG_NAME = os.path.splitext(os.path.basename(INPUT_IMG_PATH))[0]\n",
    "OUTPUT_DIR = \"output/jpeg_denoising/\"\n",
    "if not os.path.exists(OUTPUT_DIR):\n",
    "    os.makedirs(OUTPUT_DIR)\n",
    "\n",
    "img = imageio.imread(INPUT_IMG_PATH)\n",
    "img = crop_div_32(img)\n",
    "img = tf.image.convert_image_dtype(img, dtype=tf.float32)\n",
    "\n",
    "factor = 4"
   ]
  },
  {
   "cell_type": "code",
   "execution_count": null,
   "metadata": {},
   "outputs": [],
   "source": [
    "num_filters_down = [8, 16, 32, 64, 128]\n",
    "ksizes_down = [3, 3, 3, 3, 3]\n",
    "\n",
    "num_filters_up = num_filters_down\n",
    "ksizes_up = ksizes_down\n",
    "\n",
    "num_filters_skip = [0, 0, 0, 4, 4]\n",
    "ksizes_skip = [0, 0, 0, 1, 1]\n",
    "\n",
    "sigma_p = 1/30\n",
    "n_iter = 2000\n",
    "lr = 0.01\n",
    "upsampling_mode = \"bilinear\""
   ]
  },
  {
   "cell_type": "code",
   "execution_count": null,
   "metadata": {},
   "outputs": [],
   "source": [
    "skip_outputs = [None] * len(num_filters_skip)\n",
    "model_input = layers.Input(shape=img.shape[:2] + (32,), dtype=tf.float32)\n",
    "x = model_input\n",
    "\n",
    "for i in range(len(num_filters_down)):\n",
    "    x = Downsampler(num_filters_down[i],\n",
    "                    ksizes_down[i])(x)\n",
    "    if num_filters_skip[i]:\n",
    "        skip_outputs[i] = Skip(num_filters_skip[i], ksizes_skip[i])(x)\n",
    "\n",
    "    \n",
    "for i in range(len(num_filters_up) - 1, -1, -1):\n",
    "    if num_filters_skip[i]:\n",
    "        x = tf.concat((x, skip_outputs[i]), axis=3)\n",
    "    x = Upsampler(num_filters_up[i],\n",
    "                  ksizes_up[i],\n",
    "                  scale_factor=2,\n",
    "                  upsampling_mode=upsampling_mode)(x)\n",
    "\n",
    "    \n",
    "# Transform to original 3-channel image\n",
    "model_output = layers.Conv2D(filters=3, kernel_size=1, \n",
    "                             strides=1, padding='SAME', \n",
    "                             activation='sigmoid')(x)\n",
    "model = models.Model(inputs=model_input, outputs=model_output)\n",
    "\n",
    "model.summary()"
   ]
  },
  {
   "cell_type": "code",
   "execution_count": null,
   "metadata": {},
   "outputs": [],
   "source": [
    "opt = optimizers.Adam(lr=lr)\n",
    "\n",
    "z = np.random.uniform(0, 0.1, img.shape[:2] + (32,))\n",
    "z = np.expand_dims(z, axis=0)\n",
    "y_true = np.expand_dims(img, axis=0)\n",
    "loss_vals = []\n",
    "\n",
    "for it in tqdm(range(1, n_iter + 1)):\n",
    "    with tf.GradientTape() as tape:\n",
    "        y_pred = model(z, training=True)\n",
    "        main_loss = pixelwise_mse(y_true, y_pred)\n",
    "        loss_vals.append(main_loss.numpy())\n",
    "        loss = tf.add_n([main_loss] + model.losses)\n",
    "    grads = tape.gradient(loss, model.trainable_variables)\n",
    "    opt.apply_gradients(zip(grads, model.trainable_variables))\n",
    "    \n",
    "    # Add perturb noise to z\n",
    "    z += np.random.randn(*z.shape) * sigma_p\n",
    "    if it % 100 == 0 or it == 1:\n",
    "        print(f\"Iter {it}: loss={loss.numpy()[0]}\")\n",
    "        output_img = tf.image.convert_image_dtype(tf.squeeze(y_pred), dtype=tf.uint8).numpy()\n",
    "        output_path = os.path.join(OUTPUT_DIR, f\"{OUTPUT_IMG_NAME}_{it}.jpg\")\n",
    "        imageio.imsave(output_path, output_img)"
   ]
  },
  {
   "cell_type": "code",
   "execution_count": null,
   "metadata": {},
   "outputs": [],
   "source": []
  }
 ],
 "metadata": {
  "kernelspec": {
   "display_name": "Python [conda env:ml]",
   "language": "python",
   "name": "conda-env-ml-py"
  },
  "language_info": {
   "codemirror_mode": {
    "name": "ipython",
    "version": 3
   },
   "file_extension": ".py",
   "mimetype": "text/x-python",
   "name": "python",
   "nbconvert_exporter": "python",
   "pygments_lexer": "ipython3",
   "version": "3.7.5"
  }
 },
 "nbformat": 4,
 "nbformat_minor": 4
}
